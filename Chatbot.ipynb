{
  "nbformat": 4,
  "nbformat_minor": 0,
  "metadata": {
    "colab": {
      "provenance": []
    },
    "kernelspec": {
      "name": "python3",
      "display_name": "Python 3"
    },
    "language_info": {
      "name": "python"
    }
  },
  "cells": [
    {
      "cell_type": "code",
      "source": [
        "pip install nltk"
      ],
      "metadata": {
        "id": "fx7NgUuujfZn",
        "colab": {
          "base_uri": "https://localhost:8080/"
        },
        "outputId": "aa6d11b0-8fe0-4ee0-92c2-9e65d0118638"
      },
      "execution_count": 1,
      "outputs": [
        {
          "output_type": "stream",
          "name": "stdout",
          "text": [
            "Requirement already satisfied: nltk in /usr/local/lib/python3.10/dist-packages (3.8.1)\n",
            "Requirement already satisfied: click in /usr/local/lib/python3.10/dist-packages (from nltk) (8.1.7)\n",
            "Requirement already satisfied: joblib in /usr/local/lib/python3.10/dist-packages (from nltk) (1.4.2)\n",
            "Requirement already satisfied: regex>=2021.8.3 in /usr/local/lib/python3.10/dist-packages (from nltk) (2024.5.15)\n",
            "Requirement already satisfied: tqdm in /usr/local/lib/python3.10/dist-packages (from nltk) (4.66.5)\n"
          ]
        }
      ]
    },
    {
      "cell_type": "code",
      "source": [
        "import nltk\n",
        "import re\n",
        "from nltk.chat.util import Chat, reflections"
      ],
      "metadata": {
        "id": "Js5vBrGl9ONV"
      },
      "execution_count": 2,
      "outputs": []
    },
    {
      "cell_type": "code",
      "source": [
        "# Download necessary NLTK datasets\n",
        "nltk.download('punkt')\n",
        "nltk.download('averaged_perceptron_tagger')\n",
        ""
      ],
      "metadata": {
        "colab": {
          "base_uri": "https://localhost:8080/"
        },
        "id": "mowNZc4e9Uil",
        "outputId": "819a2b97-d64e-481c-e1e0-5047756c4b36"
      },
      "execution_count": 3,
      "outputs": [
        {
          "output_type": "stream",
          "name": "stderr",
          "text": [
            "[nltk_data] Downloading package punkt to /root/nltk_data...\n",
            "[nltk_data]   Unzipping tokenizers/punkt.zip.\n",
            "[nltk_data] Downloading package averaged_perceptron_tagger to\n",
            "[nltk_data]     /root/nltk_data...\n",
            "[nltk_data]   Unzipping taggers/averaged_perceptron_tagger.zip.\n"
          ]
        },
        {
          "output_type": "execute_result",
          "data": {
            "text/plain": [
              "True"
            ]
          },
          "metadata": {},
          "execution_count": 3
        }
      ]
    },
    {
      "cell_type": "code",
      "source": [
        "# Define chatbot patterns and responses\n",
        "pairs = [\n",
        "    [r\"my name is (.*)\", [\"Hello %1, how can I assist you today?\"]],\n",
        "    [r\"what is your name ?\", [\"My name is Chatbot and I'm here to help.\"]], # Example of an additional pattern-response pair. Replace with your own.\n",
        "    [r\"(.*)\", [\"I'm sorry, I don't understand that. Can you rephrase?\", \"Could you please elaborate on that?\"]]\n",
        "]"
      ],
      "metadata": {
        "id": "W03kbVJG9eP3"
      },
      "execution_count": 4,
      "outputs": []
    },
    {
      "cell_type": "code",
      "source": [
        "# Define the chatbot class\n",
        "class RuleBasedChatbot:\n",
        "    def __init__(self, pairs):\n",
        "        self.chat = Chat(pairs, reflections)  # Initialize the chat with defined pairs and reflections\n",
        "\n",
        "    def respond(self, user_input):\n",
        "        \"\"\"Generate a response from the chatbot based on user input.\"\"\"\n",
        "        return self.chat.respond(user_input)"
      ],
      "metadata": {
        "id": "ctITDLoD9kqz"
      },
      "execution_count": 5,
      "outputs": []
    },
    {
      "cell_type": "code",
      "source": [
        "# Initialize the chatbot with defined patterns\n",
        "chatbot = RuleBasedChatbot(pairs)\n",
        ""
      ],
      "metadata": {
        "id": "XPN0BqgR9pt2"
      },
      "execution_count": 6,
      "outputs": []
    },
    {
      "cell_type": "code",
      "source": [
        "# Function to chat with the bot\n",
        "def chat_with_bot():\n",
        "    print(\"Hi, I'm your chatbot. Type 'quit' to exit.\")\n",
        "    while True:\n",
        "        user_input = input(\"You: \")  # Take input from the user\n",
        "        if user_input.lower() == 'quit':  # Check if the user wants to quit the conversation\n",
        "            print(\"Chatbot: Bye! Have a great day!\")\n",
        "            break\n",
        "        response = chatbot.respond(user_input)  # Get chatbot response\n",
        "        print(f\"Chatbot: {response}\")  # Print the chatbot's response\n",
        ""
      ],
      "metadata": {
        "id": "19xlvMhb9pbL"
      },
      "execution_count": 7,
      "outputs": []
    },
    {
      "cell_type": "code",
      "source": [
        "# Start chatting with the bot\n",
        "chat_with_bot()\n",
        ""
      ],
      "metadata": {
        "colab": {
          "base_uri": "https://localhost:8080/"
        },
        "id": "2RfkFBB590X5",
        "outputId": "622c030a-7cfc-431e-c033-b97bb27a8cf3"
      },
      "execution_count": 10,
      "outputs": [
        {
          "output_type": "stream",
          "name": "stdout",
          "text": [
            "Hi, I'm your chatbot. Type 'quit' to exit.\n",
            "You: quit\n",
            "Chatbot: Bye! Have a great day!\n"
          ]
        }
      ]
    },
    {
      "cell_type": "code",
      "source": [
        "# Install necessary libraries\n",
        "!pip install nltk\n",
        "\n",
        "# Import necessary modules\n",
        "import nltk\n",
        "import re\n",
        "from nltk.chat.util import Chat, reflections\n",
        "\n",
        "# Download NLTK data\n",
        "nltk.download('punkt')\n",
        "nltk.download('averaged_perceptron_tagger')\n",
        "\n",
        "# Define patterns and responses\n",
        "pairs = [\n",
        "    [r\"my name is (.*)\", [\"Hello %1, how can I assist you today?\",]],\n",
        "    [r\"hi|hey|hello\", [\"Hello, how can I help you?\", \"Hey there! What can I do for you?\", \"Hi! How can I assist you today?\"]],\n",
        "    [r\"what is your name?\", [\"I am a chatbot created to assist you. You can call me Chatbot.\",]],\n",
        "    [r\"how are you?\", [\"I'm a bot, so I don't have feelings, but I'm here to help you!\",]],\n",
        "    [r\"can you help me with (.*)\", [\"Sure, I can help you with %1. Please provide more details.\",]],\n",
        "    [r\"sorry (.*)\", [\"It's okay. How can I assist you?\",]],\n",
        "    [r\"thank you|thanks\", [\"You're welcome!\", \"No problem!\", \"Happy to help!\"]],\n",
        "    [r\"quit\", [\"Bye! Have a great day!\", \"Goodbye!\"]],\n",
        "    [r\"(.*)\", [\"I'm sorry, I don't understand that. Can you rephrase?\", \"Could you please elaborate on that?\"]]\n",
        "]\n",
        "\n",
        "# Define the chatbot class\n",
        "class RuleBasedChatbot:\n",
        "    def __init__(self, pairs):\n",
        "        self.chat = Chat(pairs, reflections)\n",
        "\n",
        "    def respond(self, user_input):\n",
        "        return self.chat.respond(user_input)\n",
        "\n",
        "# Initialize the chatbot\n",
        "chatbot = RuleBasedChatbot(pairs)\n",
        "\n",
        "# Function to chat with the bot\n",
        "def chat_with_bot():\n",
        "    print(\"Hi, I'm your chatbot. Type 'quit' to exit.\")\n",
        "    while True:\n",
        "        user_input = input(\"You: \")\n",
        "        if user_input.lower() == 'quit':\n",
        "            print(\"Chatbot: Bye! Have a great day!\")\n",
        "            break\n",
        "        response = chatbot.respond(user_input)\n",
        "        print(f\"Chatbot: {response}\")\n",
        "\n",
        "# Start chatting with the bot\n",
        "chat_with_bot()"
      ],
      "metadata": {
        "id": "5RjHiek--KMS",
        "outputId": "45c895be-387e-4421-e229-1a885462ecb8",
        "colab": {
          "base_uri": "https://localhost:8080/"
        }
      },
      "execution_count": null,
      "outputs": [
        {
          "output_type": "stream",
          "name": "stdout",
          "text": [
            "Requirement already satisfied: nltk in /usr/local/lib/python3.10/dist-packages (3.8.1)\n",
            "Requirement already satisfied: click in /usr/local/lib/python3.10/dist-packages (from nltk) (8.1.7)\n",
            "Requirement already satisfied: joblib in /usr/local/lib/python3.10/dist-packages (from nltk) (1.4.2)\n",
            "Requirement already satisfied: regex>=2021.8.3 in /usr/local/lib/python3.10/dist-packages (from nltk) (2024.5.15)\n",
            "Requirement already satisfied: tqdm in /usr/local/lib/python3.10/dist-packages (from nltk) (4.66.5)\n"
          ]
        },
        {
          "output_type": "stream",
          "name": "stderr",
          "text": [
            "[nltk_data] Downloading package punkt to /root/nltk_data...\n",
            "[nltk_data]   Package punkt is already up-to-date!\n",
            "[nltk_data] Downloading package averaged_perceptron_tagger to\n",
            "[nltk_data]     /root/nltk_data...\n",
            "[nltk_data]   Package averaged_perceptron_tagger is already up-to-\n",
            "[nltk_data]       date!\n"
          ]
        },
        {
          "output_type": "stream",
          "name": "stdout",
          "text": [
            "Hi, I'm your chatbot. Type 'quit' to exit.\n",
            "You: hello\n",
            "Chatbot: Hi! How can I assist you today?\n",
            "You: how are you\n",
            "Chatbot: I'm a bot, so I don't have feelings, but I'm here to help you!\n"
          ]
        }
      ]
    }
  ]
}